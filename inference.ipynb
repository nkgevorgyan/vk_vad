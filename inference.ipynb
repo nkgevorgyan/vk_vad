{
 "cells": [
  {
   "cell_type": "code",
   "execution_count": 1,
   "metadata": {},
   "outputs": [],
   "source": [
    "import torch\n",
    "from sklearn import metrics\n",
    "\n",
    "import data_load\n",
    "import model\n",
    "import os\n",
    "import h5py_cache\n",
    "from torch.autograd import Variable\n",
    "import numpy as np\n",
    "import matplotlib.pyplot as plt\n",
    "import python_speech_features\n",
    "\n",
    "from pydub import AudioSegment\n",
    "import webrtcvad\n",
    "import sklearn"
   ]
  },
  {
   "cell_type": "code",
   "execution_count": 2,
   "metadata": {},
   "outputs": [],
   "source": [
    "SAMPLE_RATE = 16000\n",
    "FRAME_SIZE_MS = 10\n",
    "FRAME_SIZE = int(SAMPLE_RATE * (FRAME_SIZE_MS / 1000.0))"
   ]
  },
  {
   "cell_type": "code",
   "execution_count": 3,
   "metadata": {},
   "outputs": [],
   "source": [
    "def net_path(epoch, title):\n",
    "    part = os.getcwd() + '/models/' + title\n",
    "    if epoch >= 0:\n",
    "        return part + '_epoch' + str(epoch).zfill(3) + '.net'\n",
    "    else:\n",
    "        return part + '.net'\n",
    "    \n",
    "def load_net(epoch = 14, title = 'net'):\n",
    "    if torch.cuda.is_available():\n",
    "        return torch.load(net_path(epoch, title))\n",
    "    else:\n",
    "        return torch.load(net_path(epoch, title), map_location='cpu')"
   ]
  },
  {
   "cell_type": "code",
   "execution_count": 4,
   "metadata": {},
   "outputs": [],
   "source": [
    "net = load_net(title='net', epoch = 10)"
   ]
  },
  {
   "cell_type": "code",
   "execution_count": 5,
   "metadata": {},
   "outputs": [],
   "source": [
    "class wav_file:\n",
    "    def __init__(self, path_to_file):\n",
    "        self.name = path_to_file\n",
    "        vad = webrtcvad.Vad(0)\n",
    "        self.test_data = {'mfcc': [], 'delta': [], 'predictions': []}\n",
    "        \n",
    "        track = (AudioSegment.from_file(self.name).set_frame_rate(16000).set_sample_width(2).set_channels(1))\n",
    "        self.sound = track\n",
    "        track = np.array(track.get_array_of_samples(), dtype=np.int16)\n",
    "        padded_track = np.concatenate((track, np.zeros(FRAME_SIZE - (len(track) % FRAME_SIZE))))\n",
    "\n",
    "        self.frames = np.array(np.split(padded_track, len(padded_track) / FRAME_SIZE), dtype=np.int16)\n",
    "        self.labels = [1 if vad.is_speech(f.tobytes(), sample_rate=16000) else 0 for f in self.frames]\n",
    "        \n",
    "        self.test_data['labels'] = self.labels\n",
    "        self.predictions = self.get_predictions()[0]\n",
    "        self.probabilities_true = self.get_predictions()[1]\n",
    "        self.score = self.roc_auc_score()\n",
    "    \n",
    "    def get_features(self):\n",
    "        for i in range(len(self.test_data['labels'])):\n",
    "            mfcc = python_speech_features.mfcc(self.frames[i], 16000, winstep=(10 / 1000),\n",
    "                                           winlen=4 * (10 / 1000), nfft=2048)\n",
    "            mfcc = mfcc[:, 1:]\n",
    "            delta = python_speech_features.delta(mfcc, 2)\n",
    "\n",
    "            self.test_data['mfcc'].append(mfcc)\n",
    "            self.test_data['delta'].append(delta)\n",
    "\n",
    "            self.test_data['mfcc_padded'] = [np.zeros((1, 12))] + self.test_data['mfcc'] + [np.zeros((1, 12))] \n",
    "            self.test_data['delta_padded'] = [np.zeros((1, 12))] + self.test_data['delta'] + [np.zeros((1, 12))] \n",
    "    \n",
    "    def get_predictions(self):\n",
    "        self.get_features()\n",
    "        predictions = []\n",
    "        true_prob = []\n",
    "\n",
    "        for i in range(1, len(self.test_data['labels']) + 1):    \n",
    "            X = np.hstack((self.test_data['mfcc_padded'][i-1: i+2], self.test_data['delta_padded'][i-1: i+2])).reshape(1,3,24).repeat(2048, 0)\n",
    "            X = Variable(torch.from_numpy(np.array(X).reshape((2048, 3, 24))).float())\n",
    "            out = net(X)\n",
    "            true_prob.append(float(out[0][1]))\n",
    "            predictions.append(int(torch.argmax(out[0]))) \n",
    "        \n",
    "        return predictions, true_prob\n",
    "    \n",
    "    \n",
    "    def roc_auc_score(self):\n",
    "        return sklearn.metrics.roc_auc_score(self.labels, self.probabilities_true)"
   ]
  },
  {
   "cell_type": "markdown",
   "metadata": {},
   "source": [
    "# Get predictions"
   ]
  },
  {
   "cell_type": "code",
   "execution_count": 7,
   "metadata": {},
   "outputs": [],
   "source": [
    "example = wav_file('for_devs/ZH1KC7KCWHLQYR4G1ROYWJC37DE18A.wav')"
   ]
  },
  {
   "cell_type": "code",
   "execution_count": 8,
   "metadata": {},
   "outputs": [
    {
     "data": {
      "text/plain": [
       "0.47930147448817223"
      ]
     },
     "execution_count": 8,
     "metadata": {},
     "output_type": "execute_result"
    }
   ],
   "source": [
    "example.score"
   ]
  },
  {
   "cell_type": "code",
   "execution_count": 11,
   "metadata": {},
   "outputs": [
    {
     "data": {
      "text/plain": [
       "[0, 0, 0, 0, 0, 0, 0, 0, 0, 0, 0, 0, 0, 0, 0, 0, 0, 0, 1, 1]"
      ]
     },
     "execution_count": 11,
     "metadata": {},
     "output_type": "execute_result"
    }
   ],
   "source": [
    "example.predictions[:20]"
   ]
  },
  {
   "cell_type": "markdown",
   "metadata": {},
   "source": [
    "# Get ROC AUC score for the some files "
   ]
  },
  {
   "cell_type": "code",
   "execution_count": 15,
   "metadata": {},
   "outputs": [],
   "source": [
    "import glob\n",
    "ff = glob.glob('for_devs/' + '/*.wav', recursive=True)"
   ]
  },
  {
   "cell_type": "code",
   "execution_count": 18,
   "metadata": {},
   "outputs": [
    {
     "name": "stdout",
     "output_type": "stream",
     "text": [
      "0.3646549014324846\n",
      "0.898657498362803\n",
      "0.4554263565891473\n",
      "0.8924434784913461\n",
      "0.7019180948585093\n",
      "0.811660777385159\n",
      "0.6311899038461538\n"
     ]
    }
   ],
   "source": [
    "for f in ff[:10]:\n",
    "    try:\n",
    "        example = wav_file(f)\n",
    "        print(example.score)\n",
    "    except:\n",
    "        pass"
   ]
  }
 ],
 "metadata": {
  "kernelspec": {
   "display_name": "Python 3",
   "language": "python",
   "name": "python3"
  },
  "language_info": {
   "codemirror_mode": {
    "name": "ipython",
    "version": 3
   },
   "file_extension": ".py",
   "mimetype": "text/x-python",
   "name": "python",
   "nbconvert_exporter": "python",
   "pygments_lexer": "ipython3",
   "version": "3.8.5"
  }
 },
 "nbformat": 4,
 "nbformat_minor": 4
}
